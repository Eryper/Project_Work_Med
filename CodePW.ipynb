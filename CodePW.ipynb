{
 "cells": [
  {
   "cell_type": "markdown",
   "metadata": {},
   "source": [
    "Consegna : svilupare una dashboard per il monitoraggio di diverse condizioni a contorno, sia storici che in real life, del processo di stampaggio di due componenti chiave.\n",
    "\n",
    "Attraverso il database aziendale otteremo queste informazioni (storiche):\n",
    "\n",
    "    1 Codizioni a contorno:\n",
    "        - Codice componente\n",
    "        - Codice stampo (riportato solo nella scheda macchina chiedere)\n",
    "        - N° Pressa \n",
    "        - Codice materiale (che forse identifica la cobinazione delle materie prime ma è da chedere.) \n",
    "            - Materie Prime:\n",
    "                - PP BORMED RF830MO\n",
    "                - COLORANTE Master azzurro 62210\n",
    "\n",
    "    2 I dati registrati dagli operatori durante una run di una determinata conbinazione delle condizioni a contorno.\n",
    "        - Codice prodotto\n",
    "        - N° Pressa\n",
    "        - Codice lotto       \n",
    "\n",
    "Liberire principali da usare:\n",
    "        \n",
    "    - PANDAS per la manipolazione preliminare e pulizia dei dati ottenuti dal database aziendale E-DHR \n",
    "    - PLOTLY per la visualizzazione grafica della control chart \n",
    "    - FLASK un frame work per la programmazione di un'app web\n"
   ]
  },
  {
   "cell_type": "markdown",
   "metadata": {},
   "source": [
    "Libreria pandas per importare i file csv dal database e lavorarli \n",
    "\n",
    "1 import della libreria e del file"
   ]
  },
  {
   "cell_type": "code",
   "execution_count": null,
   "metadata": {},
   "outputs": [],
   "source": [
    "import pandas as pd\n",
    "\n",
    "views = pd.read_csv(\"Name_file.csv\")"
   ]
  }
 ],
 "metadata": {
  "kernelspec": {
   "display_name": "Python 3",
   "language": "python",
   "name": "python3"
  },
  "language_info": {
   "codemirror_mode": {
    "name": "ipython",
    "version": 3
   },
   "file_extension": ".py",
   "mimetype": "text/x-python",
   "name": "python",
   "nbconvert_exporter": "python",
   "pygments_lexer": "ipython3",
   "version": "3.12.1"
  }
 },
 "nbformat": 4,
 "nbformat_minor": 2
}
